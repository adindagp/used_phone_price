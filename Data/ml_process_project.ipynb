{
 "cells": [
  {
   "cell_type": "code",
   "execution_count": 117,
   "id": "c5b582c9",
   "metadata": {},
   "outputs": [],
   "source": [
    "import pickle\n",
    "from sklearn.pipeline import make_pipeline\n",
    "from sklearn.preprocessing import StandardScaler\n",
    "from sklearn.tree import DecisionTreeRegressor\n",
    "from sklearn.preprocessing import OneHotEncoder\n",
    "from sklearn.compose import make_column_transformer\n",
    "import pandas as pd\n",
    "from sklearn.model_selection import train_test_split, GridSearchCV, KFold, cross_val_score\n",
    "import numpy as np"
   ]
  },
  {
   "cell_type": "code",
   "execution_count": 98,
   "id": "8e446c1a",
   "metadata": {},
   "outputs": [],
   "source": [
    "data = pd.read_csv(\"phone_final_filtered.csv\")"
   ]
  },
  {
   "cell_type": "code",
   "execution_count": 99,
   "id": "9fe6ba66",
   "metadata": {},
   "outputs": [
    {
     "data": {
      "text/html": [
       "<div>\n",
       "<style scoped>\n",
       "    .dataframe tbody tr th:only-of-type {\n",
       "        vertical-align: middle;\n",
       "    }\n",
       "\n",
       "    .dataframe tbody tr th {\n",
       "        vertical-align: top;\n",
       "    }\n",
       "\n",
       "    .dataframe thead th {\n",
       "        text-align: right;\n",
       "    }\n",
       "</style>\n",
       "<table border=\"1\" class=\"dataframe\">\n",
       "  <thead>\n",
       "    <tr style=\"text-align: right;\">\n",
       "      <th></th>\n",
       "      <th>Jenis Handphone</th>\n",
       "      <th>Harga</th>\n",
       "      <th>Storage</th>\n",
       "      <th>Ukuran_Layar_(inchi)</th>\n",
       "      <th>Kamera_Utama_(mp)</th>\n",
       "      <th>Kapasitas_Baterai_(mah)</th>\n",
       "      <th>Kamera_Depan_(mp)</th>\n",
       "      <th>Kondisi</th>\n",
       "      <th>Tipe</th>\n",
       "      <th>Merek</th>\n",
       "    </tr>\n",
       "  </thead>\n",
       "  <tbody>\n",
       "    <tr>\n",
       "      <th>0</th>\n",
       "      <td>google pixel 4a</td>\n",
       "      <td>7900000</td>\n",
       "      <td>128</td>\n",
       "      <td>5.81</td>\n",
       "      <td>12</td>\n",
       "      <td>3140</td>\n",
       "      <td>8</td>\n",
       "      <td>Like new</td>\n",
       "      <td>android</td>\n",
       "      <td>google</td>\n",
       "    </tr>\n",
       "    <tr>\n",
       "      <th>1</th>\n",
       "      <td>lg g7+</td>\n",
       "      <td>5750000</td>\n",
       "      <td>128</td>\n",
       "      <td>6.10</td>\n",
       "      <td>16</td>\n",
       "      <td>3000</td>\n",
       "      <td>8</td>\n",
       "      <td>Like new</td>\n",
       "      <td>android</td>\n",
       "      <td>lg</td>\n",
       "    </tr>\n",
       "    <tr>\n",
       "      <th>2</th>\n",
       "      <td>lg velvet</td>\n",
       "      <td>6900000</td>\n",
       "      <td>128</td>\n",
       "      <td>6.80</td>\n",
       "      <td>48</td>\n",
       "      <td>4300</td>\n",
       "      <td>16</td>\n",
       "      <td>Well used</td>\n",
       "      <td>android</td>\n",
       "      <td>lg</td>\n",
       "    </tr>\n",
       "    <tr>\n",
       "      <th>3</th>\n",
       "      <td>lg velvet</td>\n",
       "      <td>6000000</td>\n",
       "      <td>128</td>\n",
       "      <td>6.80</td>\n",
       "      <td>48</td>\n",
       "      <td>4300</td>\n",
       "      <td>16</td>\n",
       "      <td>Lightly used</td>\n",
       "      <td>android</td>\n",
       "      <td>lg</td>\n",
       "    </tr>\n",
       "    <tr>\n",
       "      <th>4</th>\n",
       "      <td>OPPO A12</td>\n",
       "      <td>2100000</td>\n",
       "      <td>32</td>\n",
       "      <td>6.22</td>\n",
       "      <td>13</td>\n",
       "      <td>4230</td>\n",
       "      <td>5</td>\n",
       "      <td>Like new</td>\n",
       "      <td>android</td>\n",
       "      <td>oppo</td>\n",
       "    </tr>\n",
       "    <tr>\n",
       "      <th>5</th>\n",
       "      <td>OPPO A15</td>\n",
       "      <td>875000</td>\n",
       "      <td>64</td>\n",
       "      <td>6.52</td>\n",
       "      <td>13</td>\n",
       "      <td>4230</td>\n",
       "      <td>5</td>\n",
       "      <td>Well used</td>\n",
       "      <td>android</td>\n",
       "      <td>oppo</td>\n",
       "    </tr>\n",
       "    <tr>\n",
       "      <th>6</th>\n",
       "      <td>OPPO A16</td>\n",
       "      <td>1150000</td>\n",
       "      <td>32</td>\n",
       "      <td>6.52</td>\n",
       "      <td>13</td>\n",
       "      <td>5000</td>\n",
       "      <td>8</td>\n",
       "      <td>Lightly used</td>\n",
       "      <td>android</td>\n",
       "      <td>oppo</td>\n",
       "    </tr>\n",
       "    <tr>\n",
       "      <th>7</th>\n",
       "      <td>OPPO A16</td>\n",
       "      <td>1000000</td>\n",
       "      <td>32</td>\n",
       "      <td>6.52</td>\n",
       "      <td>13</td>\n",
       "      <td>5000</td>\n",
       "      <td>8</td>\n",
       "      <td>Lightly used</td>\n",
       "      <td>android</td>\n",
       "      <td>oppo</td>\n",
       "    </tr>\n",
       "    <tr>\n",
       "      <th>8</th>\n",
       "      <td>OPPO A16</td>\n",
       "      <td>1600000</td>\n",
       "      <td>32</td>\n",
       "      <td>6.52</td>\n",
       "      <td>13</td>\n",
       "      <td>5000</td>\n",
       "      <td>8</td>\n",
       "      <td>Like new</td>\n",
       "      <td>android</td>\n",
       "      <td>oppo</td>\n",
       "    </tr>\n",
       "    <tr>\n",
       "      <th>9</th>\n",
       "      <td>OPPO A16</td>\n",
       "      <td>2200000</td>\n",
       "      <td>32</td>\n",
       "      <td>6.52</td>\n",
       "      <td>13</td>\n",
       "      <td>5000</td>\n",
       "      <td>8</td>\n",
       "      <td>Lightly used</td>\n",
       "      <td>android</td>\n",
       "      <td>oppo</td>\n",
       "    </tr>\n",
       "  </tbody>\n",
       "</table>\n",
       "</div>"
      ],
      "text/plain": [
       "   Jenis Handphone    Harga  Storage  Ukuran_Layar_(inchi)  Kamera_Utama_(mp)  \\\n",
       "0  google pixel 4a  7900000      128                  5.81                 12   \n",
       "1           lg g7+  5750000      128                  6.10                 16   \n",
       "2        lg velvet  6900000      128                  6.80                 48   \n",
       "3        lg velvet  6000000      128                  6.80                 48   \n",
       "4         OPPO A12  2100000       32                  6.22                 13   \n",
       "5         OPPO A15   875000       64                  6.52                 13   \n",
       "6         OPPO A16  1150000       32                  6.52                 13   \n",
       "7         OPPO A16  1000000       32                  6.52                 13   \n",
       "8         OPPO A16  1600000       32                  6.52                 13   \n",
       "9         OPPO A16  2200000       32                  6.52                 13   \n",
       "\n",
       "   Kapasitas_Baterai_(mah)  Kamera_Depan_(mp)       Kondisi     Tipe   Merek  \n",
       "0                     3140                  8      Like new  android  google  \n",
       "1                     3000                  8      Like new  android      lg  \n",
       "2                     4300                 16     Well used  android      lg  \n",
       "3                     4300                 16  Lightly used  android      lg  \n",
       "4                     4230                  5      Like new  android    oppo  \n",
       "5                     4230                  5     Well used  android    oppo  \n",
       "6                     5000                  8  Lightly used  android    oppo  \n",
       "7                     5000                  8  Lightly used  android    oppo  \n",
       "8                     5000                  8      Like new  android    oppo  \n",
       "9                     5000                  8  Lightly used  android    oppo  "
      ]
     },
     "execution_count": 99,
     "metadata": {},
     "output_type": "execute_result"
    }
   ],
   "source": [
    "data.head(10)"
   ]
  },
  {
   "cell_type": "code",
   "execution_count": 100,
   "id": "f5e3e21a",
   "metadata": {},
   "outputs": [],
   "source": [
    "df = data.drop('Jenis Handphone', axis=1)\n",
    "X=df[[\"Ukuran_Layar_(inchi)\",\"Kamera_Utama_(mp)\",\"Kapasitas_Baterai_(mah)\",\"Kamera_Depan_(mp)\",\"Kondisi\",\"Tipe\",\"Merek\"]]\n",
    "y=df[[\"Harga\"]]"
   ]
  },
  {
   "cell_type": "code",
   "execution_count": 106,
   "id": "07913a2a",
   "metadata": {},
   "outputs": [
    {
     "data": {
      "text/plain": [
       "OneHotEncoder()"
      ]
     },
     "execution_count": 106,
     "metadata": {},
     "output_type": "execute_result"
    }
   ],
   "source": [
    "ohe=OneHotEncoder()\n",
    "ohe.fit(X[[\"Kondisi\",\"Tipe\",\"Merek\"]])"
   ]
  },
  {
   "cell_type": "code",
   "execution_count": 107,
   "id": "b38e99f6",
   "metadata": {},
   "outputs": [],
   "source": [
    "column_trans=make_column_transformer((OneHotEncoder(categories=ohe.categories_),[\"Kondisi\",\"Tipe\",\"Merek\"]),\n",
    "                                remainder='passthrough')"
   ]
  },
  {
   "cell_type": "code",
   "execution_count": 108,
   "id": "b2f561b0",
   "metadata": {},
   "outputs": [],
   "source": [
    "tree = DecisionTreeRegressor(max_depth = 2,\n",
    "                             random_state = 123)"
   ]
  },
  {
   "cell_type": "code",
   "execution_count": 109,
   "id": "46b32847",
   "metadata": {},
   "outputs": [],
   "source": [
    "pipe=make_pipeline(column_trans,tree)"
   ]
  },
  {
   "cell_type": "code",
   "execution_count": 110,
   "id": "d4d17d3d",
   "metadata": {},
   "outputs": [],
   "source": [
    "X_train, X_test, y_train, y_test = train_test_split(X, y, test_size=0.2, random_state=42)"
   ]
  },
  {
   "cell_type": "code",
   "execution_count": 111,
   "id": "febf3ec8",
   "metadata": {},
   "outputs": [],
   "source": [
    "pipe.fit(X_train,y_train)\n",
    "y_pred=pipe.predict(X_test)"
   ]
  },
  {
   "cell_type": "code",
   "execution_count": 112,
   "id": "013c05d5",
   "metadata": {},
   "outputs": [
    {
     "data": {
      "text/plain": [
       "0.2228084721581982"
      ]
     },
     "execution_count": 112,
     "metadata": {},
     "output_type": "execute_result"
    }
   ],
   "source": [
    "pipe.score(X_test,y_test)"
   ]
  },
  {
   "cell_type": "code",
   "execution_count": 116,
   "id": "3186b57a",
   "metadata": {},
   "outputs": [
    {
     "data": {
      "text/plain": [
       "array([4923519.75379939])"
      ]
     },
     "execution_count": 116,
     "metadata": {},
     "output_type": "execute_result"
    }
   ],
   "source": [
    "pipe.predict(pd.DataFrame(columns=X_test.columns,data=np.array([6.30,12,3500,10,\"Well used\",\"android\",\"samsung\"]).reshape(1,7)))"
   ]
  },
  {
   "cell_type": "code",
   "execution_count": 118,
   "id": "f33dfaaf",
   "metadata": {},
   "outputs": [],
   "source": [
    "with open('DecisionTreeModel.pkl', 'wb') as file:\n",
    "    pickle.dump(pipe, file)"
   ]
  },
  {
   "cell_type": "code",
   "execution_count": null,
   "id": "20b32a92",
   "metadata": {},
   "outputs": [],
   "source": []
  },
  {
   "cell_type": "code",
   "execution_count": null,
   "id": "87693147",
   "metadata": {},
   "outputs": [],
   "source": []
  },
  {
   "cell_type": "code",
   "execution_count": null,
   "id": "75c38b70",
   "metadata": {},
   "outputs": [],
   "source": []
  },
  {
   "cell_type": "code",
   "execution_count": null,
   "id": "c5404784",
   "metadata": {},
   "outputs": [],
   "source": []
  }
 ],
 "metadata": {
  "kernelspec": {
   "display_name": "Python 3 (ipykernel)",
   "language": "python",
   "name": "python3"
  },
  "language_info": {
   "codemirror_mode": {
    "name": "ipython",
    "version": 3
   },
   "file_extension": ".py",
   "mimetype": "text/x-python",
   "name": "python",
   "nbconvert_exporter": "python",
   "pygments_lexer": "ipython3",
   "version": "3.9.12"
  }
 },
 "nbformat": 4,
 "nbformat_minor": 5
}
